{
 "cells": [
  {
   "cell_type": "code",
   "execution_count": 3,
   "id": "86744f65-7303-419e-9cf6-0bc622caaac4",
   "metadata": {},
   "outputs": [],
   "source": [
    "import cv2\n",
    "\n",
    "import re\n",
    "import easyocr\n",
    "import nltk\n",
    "from nltk import ne_chunk, pos_tag, word_tokenize\n",
    "from nltk.tree import Tree\n",
    "from warnings import filterwarnings\n",
    "filterwarnings('ignore')\n",
    "def extract_names(text):\n",
    "    # Tokenize and tag the text\n",
    "    words = word_tokenize(text)\n",
    "    pos_tags = pos_tag(words)\n",
    "    \n",
    "    # Perform Named Entity Recognition\n",
    "    named_entities = ne_chunk(pos_tags)\n",
    "    \n",
    "    # Extract person names\n",
    "    names = []\n",
    "    for subtree in named_entities:\n",
    "        if isinstance(subtree, Tree) and subtree.label() == 'PERSON':\n",
    "            names.append(\" \".join([leaf[0] for leaf in subtree.leaves()]))\n",
    "    \n",
    "    return names\n",
    "\n",
    "\n",
    "\n",
    "\n",
    "def adhar(IMAGE_PATH):\n",
    "# Load the image\n",
    "    image = cv2.imread(IMAGE_PATH)\n",
    "    \n",
    "    image = cv2.resize(image,(2400,1500))\n",
    "    roi   =image[300:1300,500:1900]\n",
    "    \n",
    "    inverted_image = cv2.bitwise_not(roi)\n",
    "    \n",
    "    reader = easyocr.Reader(['en'])\n",
    "    result = reader.readtext(inverted_image,paragraph=\"True\")\n",
    "    \n",
    "    \n",
    "    date_pattern = r'\\d{2}/\\d{2}/\\d{4}'\n",
    "    adhar_pattern = r'\\d{4} \\d{4} \\d{4}'\n",
    "    # Search for the date in the text\n",
    "    date_list,adhar_list,name_list =[], [],[]\n",
    "    \n",
    "    for i in range(0,len(result)):\n",
    "        date         = re.findall(date_pattern, result[i][1]) \n",
    "        adhar_number = re.findall(adhar_pattern, result[i][1])\n",
    "        name = extract_names(result[i][1])\n",
    "        print(name)\n",
    "        \n",
    "        date_list.append(date)\n",
    "        adhar_list.append(adhar_number)\n",
    "        name_list.append(name)\n",
    "\n",
    "    d    = [i for i in date_list if len(i)>0][0][0]\n",
    "    aad  = [i for i in adhar_list if len(i)>0][0][0]\n",
    "    # name_  = [i for i in name_list if len(i)>0][0][0]\n",
    "    return '\\n'.join([name_list,d,aad])\n",
    "    "
   ]
  },
  {
   "cell_type": "code",
   "execution_count": 4,
   "id": "8afeb0b8-ee54-4fec-8b2f-554e519b9e36",
   "metadata": {},
   "outputs": [
    {
     "name": "stderr",
     "output_type": "stream",
     "text": [
      "Neither CUDA nor MPS are available - defaulting to CPU. Note: This module is much faster with a GPU.\n"
     ]
    },
    {
     "name": "stdout",
     "output_type": "stream",
     "text": [
      "[]\n",
      "[]\n"
     ]
    },
    {
     "ename": "TypeError",
     "evalue": "sequence item 0: expected str instance, list found",
     "output_type": "error",
     "traceback": [
      "\u001b[0;31m---------------------------------------------------------------------------\u001b[0m",
      "\u001b[0;31mTypeError\u001b[0m                                 Traceback (most recent call last)",
      "Cell \u001b[0;32mIn[4], line 2\u001b[0m\n\u001b[1;32m      1\u001b[0m img \u001b[38;5;241m=\u001b[39m \u001b[38;5;124m'\u001b[39m\u001b[38;5;124m/home/jarvis/Documents/Python_project/test_img/abc.png\u001b[39m\u001b[38;5;124m'\u001b[39m\n\u001b[0;32m----> 2\u001b[0m text \u001b[38;5;241m=\u001b[39m \u001b[43madhar\u001b[49m\u001b[43m(\u001b[49m\u001b[43mimg\u001b[49m\u001b[43m)\u001b[49m\n\u001b[1;32m      3\u001b[0m text\n",
      "Cell \u001b[0;32mIn[3], line 60\u001b[0m, in \u001b[0;36madhar\u001b[0;34m(IMAGE_PATH)\u001b[0m\n\u001b[1;32m     58\u001b[0m aad  \u001b[38;5;241m=\u001b[39m [i \u001b[38;5;28;01mfor\u001b[39;00m i \u001b[38;5;129;01min\u001b[39;00m adhar_list \u001b[38;5;28;01mif\u001b[39;00m \u001b[38;5;28mlen\u001b[39m(i)\u001b[38;5;241m>\u001b[39m\u001b[38;5;241m0\u001b[39m][\u001b[38;5;241m0\u001b[39m][\u001b[38;5;241m0\u001b[39m]\n\u001b[1;32m     59\u001b[0m \u001b[38;5;66;03m# name_  = [i for i in name_list if len(i)>0][0][0]\u001b[39;00m\n\u001b[0;32m---> 60\u001b[0m \u001b[38;5;28;01mreturn\u001b[39;00m \u001b[38;5;124;43m'\u001b[39;49m\u001b[38;5;130;43;01m\\n\u001b[39;49;00m\u001b[38;5;124;43m'\u001b[39;49m\u001b[38;5;241;43m.\u001b[39;49m\u001b[43mjoin\u001b[49m\u001b[43m(\u001b[49m\u001b[43m[\u001b[49m\u001b[43mname_list\u001b[49m\u001b[43m,\u001b[49m\u001b[43md\u001b[49m\u001b[43m,\u001b[49m\u001b[43maad\u001b[49m\u001b[43m]\u001b[49m\u001b[43m)\u001b[49m\n",
      "\u001b[0;31mTypeError\u001b[0m: sequence item 0: expected str instance, list found"
     ]
    }
   ],
   "source": [
    "img = '/home/jarvis/Documents/Python_project/test_img/abc.png'\n",
    "text = adhar(img)\n",
    "text"
   ]
  },
  {
   "cell_type": "code",
   "execution_count": 5,
   "id": "1e6c147a-c696-4059-a38e-f0d151b6ffc0",
   "metadata": {},
   "outputs": [],
   "source": [
    "def simple_image_extract(img):\n",
    "    image = cv2.imread(img)\n",
    "    h1,w1,=image.shape\n",
    "    image=cv2.resize(image,(w1+500,h1+500))\n",
    "    \n",
    "    roi   =image[300:1300,500:1900]\n",
    "    \n",
    "    inverted_image = cv2.bitwise_not(roi)\n",
    "    \n",
    "    reader = easyocr.Reader(['en'])\n",
    "    result = reader.readtext(inverted_image,paragraph=\"True\")\n",
    "    return result\n",
    "    \n",
    "    "
   ]
  },
  {
   "cell_type": "code",
   "execution_count": 6,
   "id": "7a52bd82-3a48-4e65-a6d4-d6c95c3004ed",
   "metadata": {},
   "outputs": [
    {
     "ename": "ValueError",
     "evalue": "too many values to unpack (expected 2)",
     "output_type": "error",
     "traceback": [
      "\u001b[0;31m---------------------------------------------------------------------------\u001b[0m",
      "\u001b[0;31mValueError\u001b[0m                                Traceback (most recent call last)",
      "Cell \u001b[0;32mIn[6], line 2\u001b[0m\n\u001b[1;32m      1\u001b[0m simple\u001b[38;5;241m=\u001b[39m\u001b[38;5;124m'\u001b[39m\u001b[38;5;124m/home/jarvis/Documents/Python_project/test_img/simple_img.png\u001b[39m\u001b[38;5;124m'\u001b[39m\n\u001b[0;32m----> 2\u001b[0m \u001b[43msimple_image_extract\u001b[49m\u001b[43m(\u001b[49m\u001b[43msimple\u001b[49m\u001b[43m)\u001b[49m\n",
      "Cell \u001b[0;32mIn[5], line 3\u001b[0m, in \u001b[0;36msimple_image_extract\u001b[0;34m(img)\u001b[0m\n\u001b[1;32m      1\u001b[0m \u001b[38;5;28;01mdef\u001b[39;00m \u001b[38;5;21msimple_image_extract\u001b[39m(img):\n\u001b[1;32m      2\u001b[0m     image \u001b[38;5;241m=\u001b[39m cv2\u001b[38;5;241m.\u001b[39mimread(img)\n\u001b[0;32m----> 3\u001b[0m     h1,w1,\u001b[38;5;241m=\u001b[39mimage\u001b[38;5;241m.\u001b[39mshape\n\u001b[1;32m      4\u001b[0m     image\u001b[38;5;241m=\u001b[39mcv2\u001b[38;5;241m.\u001b[39mresize(image,(w1\u001b[38;5;241m+\u001b[39m\u001b[38;5;241m500\u001b[39m,h1\u001b[38;5;241m+\u001b[39m\u001b[38;5;241m500\u001b[39m))\n\u001b[1;32m      6\u001b[0m     roi   \u001b[38;5;241m=\u001b[39mimage[\u001b[38;5;241m300\u001b[39m:\u001b[38;5;241m1300\u001b[39m,\u001b[38;5;241m500\u001b[39m:\u001b[38;5;241m1900\u001b[39m]\n",
      "\u001b[0;31mValueError\u001b[0m: too many values to unpack (expected 2)"
     ]
    }
   ],
   "source": [
    "simple='/home/jarvis/Documents/Python_project/test_img/simple_img.png'\n",
    "simple_image_extract(simple)"
   ]
  },
  {
   "cell_type": "code",
   "execution_count": null,
   "id": "3e8b84f9-a326-4a93-8e9d-3dac6963033e",
   "metadata": {},
   "outputs": [],
   "source": []
  }
 ],
 "metadata": {
  "kernelspec": {
   "display_name": "Python 3 (ipykernel)",
   "language": "python",
   "name": "python3"
  },
  "language_info": {
   "codemirror_mode": {
    "name": "ipython",
    "version": 3
   },
   "file_extension": ".py",
   "mimetype": "text/x-python",
   "name": "python",
   "nbconvert_exporter": "python",
   "pygments_lexer": "ipython3",
   "version": "3.10.12"
  }
 },
 "nbformat": 4,
 "nbformat_minor": 5
}
